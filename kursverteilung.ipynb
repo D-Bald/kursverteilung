{
 "cells": [
  {
   "cell_type": "markdown",
   "metadata": {},
   "source": [
    "# Kurszuteilung"
   ]
  },
  {
   "cell_type": "markdown",
   "metadata": {},
   "source": [
    "## Implementierung"
   ]
  },
  {
   "cell_type": "code",
   "execution_count": 124,
   "metadata": {},
   "outputs": [],
   "source": [
    "import random\n",
    "import pandas as pd\n",
    "import matplotlib.pyplot as plt\n",
    "from statistics import variance"
   ]
  },
  {
   "cell_type": "code",
   "execution_count": 1,
   "metadata": {},
   "outputs": [],
   "source": [
    "# Python program to find maximum Bipartite matching.\n",
    "\n",
    "class Graph:\n",
    "\tdef __init__(self, adj_mat: list[list[int]]):\n",
    "\t\t\n",
    "\t\t# residual graph\n",
    "\t\tself.adj_mat = adj_mat\n",
    "\t\tself.ppl = len(adj_mat)\n",
    "\t\tself.jobs = len(adj_mat[0])\n",
    "\n",
    "\n",
    "\t# A DFS based recursive function\n",
    "\t# that returns true if a matching\n",
    "\t# for vertex u is possible\n",
    "\tdef bpm(self, u, matchR, seen):\n",
    "\n",
    "\t\t# Try every job one by one\n",
    "\t\tfor v in range(self.jobs):\n",
    "\n",
    "\t\t\t# If applicant u is interested\n",
    "\t\t\t# in job v and v is not seen\n",
    "\t\t\tif self.adj_mat[u][v] and seen[v] == False:\n",
    "\t\t\t\t\n",
    "\t\t\t\t# Mark v as visited\n",
    "\t\t\t\tseen[v] = True\n",
    "\n",
    "\t\t\t\t'''If job 'v' is not assigned to\n",
    "\t\t\t\tan applicant OR previously assigned\n",
    "\t\t\t\tapplicant for job v (which is matchR[v])\n",
    "\t\t\t\thas an alternate job available.\n",
    "\t\t\t\tSince v is marked as visited in the\n",
    "\t\t\t\tabove line, matchR[v] in the following\n",
    "\t\t\t\trecursive call will not get job 'v' again'''\n",
    "\t\t\t\tif matchR[v] == -1 or self.bpm(matchR[v],\n",
    "\t\t\t\t\t\t\t\t\t\t\tmatchR, seen):\n",
    "\t\t\t\t\tmatchR[v] = u\n",
    "\t\t\t\t\treturn True\n",
    "\t\treturn False\n",
    "\n",
    "\t# Returns maximum number of matching\n",
    "\tdef maxBPM(self):\n",
    "\t\t'''\n",
    "\t\tReturns List where each value at index i\n",
    "\t\tis the applicant index number that is\n",
    "\t\tassigned to job i.\n",
    "\t\t'''\n",
    "\n",
    "\t\t'''An array to keep track of the\n",
    "\t\tapplicants assigned to jobs.\n",
    "\t\tThe value of matchR[i] is the\n",
    "\t\tapplicant number assigned to job i,\n",
    "\t\tthe value -1 indicates nobody is assigned.'''\n",
    "\t\tmatchR = [-1] * self.jobs\n",
    "\t\t\n",
    "\t\tfor i in range(self.ppl):\n",
    "\t\t\t\n",
    "\t\t\t# Mark all jobs as not seen for next applicant.\n",
    "\t\t\tseen = [False] * self.jobs\n",
    "\t\t\t\n",
    "\t\t\t# Find if the applicant 'u' can get a job\n",
    "\t\t\tself.bpm(i, matchR, seen)\n",
    "\t\treturn matchR\n",
    "\n",
    "\t# Takes a matching and assigns unmatched people to random open jobs\n",
    "\tdef distribute_rest_to_open_jobs(self, matching_vector):\n",
    "\t\t# Filter for unassigned people\n",
    "\t\tset_matching_vector = set(matching_vector)\n",
    "\t\tset_ppl = set(range(self.ppl))\n",
    "\t\tnot_assigned_ppl = list(set_ppl - set_matching_vector)\n",
    "\t\tfreie_plaetze = [index for index in range(len(matching_vector)) if matching_vector[index] == -1]\n",
    "\n",
    "\t\t# Assign the unassigned people to a random open Job in random order\n",
    "\t\twhile len(not_assigned_ppl)>0:\n",
    "\t\t\trand_person = not_assigned_ppl.pop(random.randint(0,len(not_assigned_ppl)-1))\n",
    "\t\t\trand_platz = freie_plaetze.pop(random.randint(0,len(freie_plaetze)-1))\n",
    "\t\t\tmatching_vector[rand_platz] = rand_person\n",
    "\t\t\n",
    "\t\treturn matching_vector\n",
    "\n",
    "\n",
    "# Mpst of this code is contributed by Neelam Yadav to\n",
    "# https://www.geeksforgeeks.org/maximum-bipartite-matching/\n"
   ]
  },
  {
   "cell_type": "code",
   "execution_count": 126,
   "metadata": {},
   "outputs": [],
   "source": [
    "class Verteilung:\n",
    "    def __init__(self, wahlergebnisse: str, input_name_format: int, kurse_dict: dict, *vollst_sus_listen: str):\n",
    "        '''\n",
    "            Arguments:\n",
    "                input_name_format: 1 Wenn Vor- und Nachname in einer Spalte stehen, 2, wenn Vor- und Nachname einzeln gegeben sind.\n",
    "        '''\n",
    "        if input_name_format not in [1,2]:\n",
    "            raise Exception(\"input_name_format nicht 1 oder 2. Gib 1 an, wenn Vor- und Nachname in einer Spalte stehen oder 2, wenn Vor- und Nachname einzeln gegeben sind.\")\n",
    "        self.input_name_format = input_name_format\n",
    "\n",
    "        # Lese Datei-Inhalte\n",
    "        self.df_gesamt = pd.read_csv(wahlergebnisse, delimiter=';', encoding='utf-8')\n",
    "\n",
    "        # Wenn eine vollständige Schüler:innenliste gegeben ist, füge fehlende Schüeler:innen hinzu\n",
    "        self._add_missing_students(*vollst_sus_listen)\n",
    "        \n",
    "        \n",
    "        if sum(kurse_dict.values()) < len(self.df_gesamt):\n",
    "            raise Exception(\"Verteilung von {} Schüler:innen auf {} Plätze nicht möglich\".format(len(self.df_gesamt), sum(kurse_dict.values())))\n",
    "\n",
    "        # DataFrame ohne Name und Klasse, also nur mit Kursen.\n",
    "        # Dieser DataFrame dient zur bestimmung der Verteilung.\n",
    "        # Erst im output werden die Namen und Klassen wieder zugeordnet.\n",
    "        if self.input_name_format == 1:\n",
    "            self.df_kurswahlen = self.df_gesamt[self.df_gesamt.columns[2:]]\n",
    "        else:\n",
    "            self.df_kurswahlen = self.df_gesamt[self.df_gesamt.columns[3:]]\n",
    "        \n",
    "        # Verringerung der Varianz von jeweils vergebenen Kursplätzen zu maximaler Belegung durch\n",
    "        # Änderung der Reihenfolge der Kurse innerhalb des gegebenen `kurse_mit_limits` dictionaries.\n",
    "        # Da die Verteilung der Jobs in der Reihenfolge im dict folgt, sollten zuerst Plätze in großen Kursen vergeben werden.\n",
    "        # Im schlechten Fall ist bei aufsteigender Reihenfolge der Kursgröße\n",
    "        # die quadrierte Differenz von belegten Plätzen und Limit im großen Kurs am Ende groß,\n",
    "        # während sich die freien Plätze in der absteigend sortierten Reihenfolge auf mehrere kleinere Kurse verteilen können.\n",
    "        # Die Summe der absoluten Differenzen bleibt gleich, die Varianz ist im ersten Fall jedoch größer als im zweiten.\n",
    "        self.kurse_mit_limits = dict(sorted(kurse_dict.items(), key=lambda x: x[1], reverse=True))\n",
    "        \n",
    "        self._graph = Graph(self.make_adj_matrix().values.tolist())\n",
    "        self.matching_vector = None\n",
    "    \n",
    "\n",
    "    def _add_missing_students(self, *vollst_sus_listen: str):\n",
    "        # Ersetze umlaute in jeder Liste für ein einheitliches Format, um Duplikate besser zu erkennen.\n",
    "        if self.input_name_format == 1:\n",
    "            self.df_gesamt[\"Name\"] = self.df_gesamt[\"Name\"].replace({'ä': 'ae', 'ö': 'oe', 'ü': 'ue'}, regex=True)\n",
    "            \n",
    "            # Spalten, die zusammengeführt werden sollen\n",
    "            subset = ['Name']\n",
    "        else:\n",
    "            self.df_gesamt[\"Vorname\"] = self.df_gesamt[\"Vorname\"].replace({'ä': 'ae', 'ö': 'oe', 'ü': 'ue'}, regex=True)\n",
    "            self.df_gesamt[\"Nachname\"] = self.df_gesamt[\"Nachname\"].replace({'ä': 'ae', 'ö': 'oe', 'ü': 'ue'}, regex=True)\n",
    "            \n",
    "            # Spalten, die zusammengeführt werden sollen\n",
    "            subset=['Vorname', 'Nachname']\n",
    "\n",
    "        for file in vollst_sus_listen:\n",
    "            vollst_sus_liste = pd.read_csv(file, encoding='utf-8')\n",
    "            if self.input_name_format == 1:\n",
    "                vollst_sus_liste[\"Name\"] = vollst_sus_liste[\"Vorname\"] + \" \" +  vollst_sus_liste[\"Nachname\"]\n",
    "                vollst_sus_liste[\"Name\"] = vollst_sus_liste[\"Name\"].replace({'ä': 'ae', 'ö': 'oe', 'ü': 'ue'}, regex=True)\n",
    "\n",
    "            self.df_gesamt = pd.concat([self.df_gesamt, vollst_sus_liste],\n",
    "                                        join=\"outer\",\n",
    "                                        ignore_index=True)\\\n",
    "                            .drop_duplicates(subset=subset, keep='first')\\\n",
    "                            [self.df_gesamt.columns]\n",
    "\n",
    "\n",
    "    def make_adj_matrix(self) -> pd.DataFrame:\n",
    "        df_adj_matrix = pd.DataFrame()\n",
    "        \n",
    "        # Füge für jeden Kurs die Anzahl an Plätzen hinzu\n",
    "        for kurs, limit in self.kurse_mit_limits.items():\n",
    "                df_kurs_gewählt = self.df_kurswahlen.eq(kurs).any(axis=1).astype(int)\n",
    "                df_adj_matrix = pd.concat([df_adj_matrix,\n",
    "                        pd.DataFrame({f\"{kurs}_platz_{i+1}\": df_kurs_gewählt for i in range(limit)})],\n",
    "                        axis=1\n",
    "                    )\n",
    "\n",
    "        return df_adj_matrix\n",
    "\n",
    "\n",
    "    def erstellen(self, rest_zufaellig_verteilen = True) -> list[int]:\n",
    "        # Berechne das maximum bipartite matching und verteile ungematchte Schüler zufällig auf offene Plätze\n",
    "        self.matching_vector =  self._graph.maxBPM()\n",
    "\n",
    "        if rest_zufaellig_verteilen:\n",
    "            self.matching_vector = self._graph.distribute_rest_to_open_jobs(self.matching_vector)\n",
    "\n",
    "        return self.matching_vector\n",
    "\n",
    "        \n",
    "    def get_kurs(self, platz_idx: int) -> str:\n",
    "        fortlaufende_plaetze_fuer_kurse = 0\n",
    "        for kurs, limit in self.kurse_mit_limits.items():\n",
    "            if platz_idx <= fortlaufende_plaetze_fuer_kurse + limit - 1:\n",
    "                return kurs\n",
    "            fortlaufende_plaetze_fuer_kurse += limit\n",
    "        raise Exception('Kurs konnte nicht zugeteilt werden. Platz Index {} liegt außerhalb der summierten Platz-Limits aller Kurse: {}'.format(platz_idx, fortlaufende_plaetze_fuer_kurse))\n",
    "\n",
    "\n",
    "    def maybe_get_kurs_by_schueler_idx(self, row) -> str:\n",
    "        if row.name in self.matching_vector:\n",
    "            platz_idx =  self.matching_vector.index(row.name)\n",
    "            kurs = self.get_kurs(platz_idx)\n",
    "            return kurs\n",
    "        return None\n",
    "\n",
    "\n",
    "    # Erstellt output DataFrame\n",
    "    def to_dataframe(self) -> pd.DataFrame:\n",
    "        # Dataframe Spalten Nachname, Vorname, Klasse und Kurs\n",
    "        df_output = self.df_gesamt.loc[:, [\"Klasse\"]]\n",
    "\n",
    "        # Entferne Punkte aus Klassenbezeichnung, damit Excel daraus kein Datum macht\n",
    "        df_output[\"Klasse\"] = df_output[\"Klasse\"].str.replace(\".\",\"\",regex=False)\n",
    "\n",
    "        if self.input_name_format == 1:\n",
    "            # Aufteilen der Spalte Name in Vor- und Nachname.\n",
    "            # Nutze `str.rsplit()` um den ersten Space von rechts zu suchen, da jeder nur einen Nachnamen, aber mehrere Vornamen haben kann.\n",
    "            df_output[['Vorname', 'Nachname']] = self.df_gesamt['Name'].str.rsplit(' ', n=1, expand=True)\n",
    "        else:\n",
    "            df_output['Vorname'] = self.df_gesamt['Vorname']\n",
    "            df_output['Nachname'] = self.df_gesamt['Nachname']\n",
    "\n",
    "        # Finde zu den Schüler:innen nach index im gesamten Namens-Dataframe den im Matchingvektor stehenden\n",
    "        # Kursplatz und übersetze diesen wiederum in einen Kursnamen, anhand des kurse_mit_limits dict\n",
    "        # Gibt `None` für Schüler:innen zurück, die keinem Platz zugeteilt sind.\n",
    "        df_output['Kurs'] = df_output.apply(lambda row: self.maybe_get_kurs_by_schueler_idx(row), axis=1)\n",
    "\n",
    "        # Ordne die Spalten wie in Excel Tabelle zum Erstellen der Kurs- und Klassenlisten\n",
    "        df_output = df_output[['Nachname', 'Vorname', 'Klasse', 'Kurs']]\n",
    "\n",
    "        return df_output\n",
    "    \n",
    "    def to_csv(self, filename: str) -> None:\n",
    "        return self.to_dataframe().to_csv(filename, index=False, encoding='utf-8')\n",
    "\n",
    "    def belegung_limit_varianz(self):\n",
    "        df = self.to_dataframe()\n",
    "        groups =  df.groupby(\"Kurs\").count()[\"Klasse\"]\n",
    "        distances = []\n",
    "        for kurs in groups.index:\n",
    "            distances.append(self.kurse_mit_limits[kurs] - groups[kurs])\n",
    "        \n",
    "        return variance(distances)\n",
    "    \n",
    "    def info(self) -> None:\n",
    "        # Anzahl verteilter Schüler und offener Plätze\n",
    "        offene_plaetze = self.matching_vector.count(-1)\n",
    "        print(f\"{len(self.matching_vector)-offene_plaetze} Schüler:innen von {len(self.df_gesamt)} Schüler:innen verteilt.\")\n",
    "        print(\"-\" * 50)\n",
    "\n",
    "        output = self.to_dataframe()\n",
    "        print(\"Belegung:\")\n",
    "        print(output.groupby(\"Kurs\").count()[\"Klasse\"])\n",
    "\n",
    "        print(\"-\" * 50)\n",
    "        print(\"Plätze übrig: \", offene_plaetze)\n",
    "        print(\"Varianz der Differenzen der vergebenen Kursplätze zu maximaler Belegung: \", self.belegung_limit_varianz())"
   ]
  },
  {
   "cell_type": "markdown",
   "metadata": {},
   "source": [
    "### TODO"
   ]
  },
  {
   "cell_type": "code",
   "execution_count": 127,
   "metadata": {},
   "outputs": [],
   "source": [
    "# TODO: Strip trailing whitespace from input data (auch Spaltennamen in Wahlergebnissen und Projektnamen im dict und in Wahl-Spalten)\n",
    "# TODO: Checken, ob Name aus UCS liste substring von dem in der Wahl ist und insb. anders herum, um Duplikate zu vermeiden."
   ]
  },
  {
   "cell_type": "markdown",
   "metadata": {},
   "source": [
    "## Daten Eingabe"
   ]
  },
  {
   "cell_type": "markdown",
   "metadata": {},
   "source": [
    "### Format der eingelesenen csv Datei:\n",
    "\n",
    "|Name|Klasse|Wahl_1|Wahl_2|Wahl_3|\n",
    "|:--:|:----:|:----:|:----:|:----:|\n",
    "\n",
    "oder\n",
    "\n",
    "|Vorname|Nachname|Klasse|Wahl_1|Wahl_2|Wahl_3|\n",
    "|:-----:|:------:|:----:|:----:|:----:|:----:|\n",
    "\n",
    "**Trennzeichen**: *Semikolon*: `;`"
   ]
  },
  {
   "cell_type": "markdown",
   "metadata": {},
   "source": [
    "### Jahrgang 5"
   ]
  },
  {
   "cell_type": "code",
   "execution_count": 128,
   "metadata": {},
   "outputs": [],
   "source": [
    "kurse_mit_limits_jgst_5 = {\n",
    "    'Liebe auf den zweiten Blick - (Wieder)verwenden statt wegwerfen': 32,\n",
    "    'Scifi Schreibwerkstatt - Zukunftsideen oder \"Wie leben wir in 100 Jahren?\"': 16,\n",
    "    'Singen, Tanzen und Schauspiel – Ein Performance-Workshop zum Nachdenken ': 16,\n",
    "    'Schräge Vögel (und andere Tiere)': 32,\n",
    "    'Yes, ve gan!': 32,\n",
    "    \"Kein' Scheiß - Wir kritzeln die Toiletten weiß!\": 32,\n",
    "    'Gesundheitssport und Schuluniform': 0,\n",
    "    '\"Nachhaltige Entwicklung\" - Die Zukunftswerkstatt': 0\n",
    "}\n",
    "\n",
    "wahlergebnisse_jgst_5 = \"./data/wahlergebnisse/Wahlergebnisse_jgst_5_ohne_jahrgangsuebergreifend.csv\"\n",
    "\n",
    "klassenlisten_jgst_5 = [\"ge100041-5.1.1.csv\", \"ge100041-5.1.2.csv\", \"ge100041-5.1.3.csv\",\n",
    "                        \"ge100041-5.2.1.csv\", \"ge100041-5.2.2.csv\", \"ge100041-5.2.3.csv\"]\n",
    "                \n",
    "vollst_sus_listen_jgst_5 = [\"./data/klasselisten/\" + filename for filename in klassenlisten_jgst_5]"
   ]
  },
  {
   "cell_type": "markdown",
   "metadata": {},
   "source": [
    "### Jahrgang 6"
   ]
  },
  {
   "cell_type": "code",
   "execution_count": 129,
   "metadata": {},
   "outputs": [],
   "source": [
    "kurse_mit_limits_jgst_6 = {}\n",
    "\n",
    "wahlergebnisse_jgst_6 = \"\"\n",
    "\n",
    "klassenlisten_jgst_6 = []\n",
    "\n",
    "vollst_sus_listen_jgst_6 = [\"./data/klasselisten/\" + filename for filename in klassenlisten_jgst_6]"
   ]
  },
  {
   "cell_type": "markdown",
   "metadata": {},
   "source": [
    "### Jahrgang 7"
   ]
  },
  {
   "cell_type": "code",
   "execution_count": 130,
   "metadata": {},
   "outputs": [],
   "source": [
    "kurse_mit_limits_jgst_7 = {}\n",
    "\n",
    "wahlergebnisse_jgst_7 = \"\"\n",
    "\n",
    "klassenlisten_jgst_7 = []\n",
    "\n",
    "vollst_sus_listen_jgst_7 = [\"./data/klasselisten/\" + filename for filename in klassenlisten_jgst_7]"
   ]
  },
  {
   "cell_type": "markdown",
   "metadata": {},
   "source": [
    "### Jahrgang 8"
   ]
  },
  {
   "cell_type": "code",
   "execution_count": 131,
   "metadata": {},
   "outputs": [],
   "source": [
    "kurse_mit_limits_jgst_8 = {}\n",
    "\n",
    "wahlergebnisse_jgst_8 = \"\"\n",
    "\n",
    "klassenlisten_jgst_8 = []\n",
    "\n",
    "vollst_sus_listen_jgst_8 = [\"./data/klasselisten/\" + filename for filename in klassenlisten_jgst_8]"
   ]
  },
  {
   "cell_type": "markdown",
   "metadata": {},
   "source": [
    "### Jahrgang 9"
   ]
  },
  {
   "cell_type": "code",
   "execution_count": 132,
   "metadata": {},
   "outputs": [],
   "source": [
    "kurse_mit_limits_jgst_9 = {\n",
    "    \"Artenvielfalt\":18,\n",
    "    \"Nachhaltigkeit im Kleiderschrank\":19,\n",
    "    \"Yes, ve-gan! Vegan/Vegetarisch - die Ernährung der Zukunft?\":19,\n",
    "    \"Das zerbrechliche Paradies\":19,\n",
    "    \"Escape, aber richtig!\":19,\n",
    "    \"Nachhaltig Skifahren?!\":34,\n",
    "    \"Nachhaltiges Leben und Herstellung eigener Pflegeprodukte\":19,\n",
    "    \"Bau eines nachhaltigen Schülerkiosk\":9,\n",
    "    \"Grüne Moderne. Die neue Sicht auf Pflanzen\": 19,\n",
    "    \"Freies Projekt\":19,\n",
    "    \"Gesundheitssport und Schuluniform\":19\n",
    "}\n",
    "\n",
    "wahlergebnisse_jgst_9 = \"./data/wahlergebnisse/Wahlergebnisse_jgst_9.csv\"\n",
    "\n",
    "klassenlisten_jgst_9 = [\"ge100041-9.1.1.csv\", \"ge100041-9.1.2.csv\", \"ge100041-9.1.3.csv\",\n",
    "                        \"ge100041-9.2.1.csv\", \"ge100041-9.2.2.csv\", \"ge100041-9.2.3.csv\"]\n",
    "                \n",
    "vollst_sus_listen_jgst_9 = [\"./data/klasselisten/\" + filename for filename in klassenlisten_jgst_9]"
   ]
  },
  {
   "cell_type": "markdown",
   "metadata": {},
   "source": [
    "## Ausführen der Zuteilung"
   ]
  },
  {
   "cell_type": "code",
   "execution_count": 146,
   "metadata": {},
   "outputs": [
    {
     "name": "stdout",
     "output_type": "stream",
     "text": [
      "144 Schüler:innen von 144 Schüler:innen verteilt.\n",
      "--------------------------------------------------\n",
      "Belegung:\n",
      "Kurs\n",
      "Kein' Scheiß - Wir kritzeln die Toiletten weiß!                               32\n",
      "Liebe auf den zweiten Blick - (Wieder)verwenden statt wegwerfen               25\n",
      "Schräge Vögel (und andere Tiere)                                              32\n",
      "Scifi Schreibwerkstatt - Zukunftsideen oder \"Wie leben wir in 100 Jahren?\"    14\n",
      "Singen, Tanzen und Schauspiel – Ein Performance-Workshop zum Nachdenken        9\n",
      "Yes, ve gan!                                                                  32\n",
      "Name: Klasse, dtype: int64\n",
      "--------------------------------------------------\n",
      "Plätze übrig:  16\n",
      "Varianz der Differenzen der vergebenen Kursplätze zu maximaler Belegung:  11\n"
     ]
    }
   ],
   "source": [
    "verteilung = Verteilung(wahlergebnisse_jgst_5, 2, kurse_mit_limits_jgst_5)# , *vollst_sus_listen_jgst_9)\n",
    "\n",
    "verteilung.erstellen(rest_zufaellig_verteilen=True)\n",
    "\n",
    "verteilung.to_csv('./data/output/output_jgst_5.csv')\n",
    "\n",
    "adj_mat = verteilung.make_adj_matrix()\n",
    "\n",
    "verteilung.info()"
   ]
  },
  {
   "cell_type": "markdown",
   "metadata": {},
   "source": [
    "## Experimente"
   ]
  },
  {
   "cell_type": "markdown",
   "metadata": {},
   "source": [
    "### Optimieren der \"gleichmäßigen\" Verteilung"
   ]
  },
  {
   "cell_type": "code",
   "execution_count": 134,
   "metadata": {},
   "outputs": [],
   "source": [
    "from itertools import permutations\n",
    "\n",
    "k_v_perms = permutations(kurse_mit_limits_jgst_5.items())\n",
    "kurs_dict_perms = []\n",
    "for perm in k_v_perms:\n",
    "    kurs_dict_perms.append(dict((key, value) for key, value in perm))\n",
    "\n",
    "# varianz = -1\n",
    "# i = 1\n",
    "# for kurs_dict in kurs_dict_perms:\n",
    "#     print(i)\n",
    "#     i += 1\n",
    "#     # Erstelle Graph von aktueller Reihenfolge der Kurse\n",
    "#     gfg = GFG(verteilung.make_adj_matrix().values.tolist())\n",
    "#     # Berechne das maximum bipartite matching und verteile ungematchte Schüler zufällig auf offene Plätze\n",
    "#     verteilung.matching_vector =  gfg.maxBPM()\n",
    "#     varianz_neu = verteilung.belegung_limit_varianz()\n",
    "\n",
    "#     if varianz_neu < varianz or varianz == -1:\n",
    "#         matching_vector = verteilung.matching_vector\n",
    "#         varianz = varianz_neu\n",
    "#         print(\"Neue Belegung mit Varianz: \", varianz)\n",
    "\n",
    "# verteilung.matching_vector = matching_vector\n"
   ]
  }
 ],
 "metadata": {
  "kernelspec": {
   "display_name": "Python 3.10.6 ('venv': venv)",
   "language": "python",
   "name": "python3"
  },
  "language_info": {
   "codemirror_mode": {
    "name": "ipython",
    "version": 3
   },
   "file_extension": ".py",
   "mimetype": "text/x-python",
   "name": "python",
   "nbconvert_exporter": "python",
   "pygments_lexer": "ipython3",
   "version": "3.10.6"
  },
  "orig_nbformat": 4,
  "vscode": {
   "interpreter": {
    "hash": "918d1c794cc151908cd3d9836aedd631bb4d87e9f834a495a2ee55a58d76d7fa"
   }
  }
 },
 "nbformat": 4,
 "nbformat_minor": 2
}
